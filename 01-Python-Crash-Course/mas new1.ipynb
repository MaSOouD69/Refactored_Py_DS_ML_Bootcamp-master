{
 "cells": [
  {
   "cell_type": "code",
   "execution_count": 3,
   "id": "501dfe06",
   "metadata": {},
   "outputs": [
    {
     "name": "stdout",
     "output_type": "stream",
     "text": [
      "hello\n"
     ]
    }
   ],
   "source": [
    "print ('hello')"
   ]
  },
  {
   "cell_type": "raw",
   "id": "bbb4f967",
   "metadata": {},
   "source": [
    "# 1+1"
   ]
  },
  {
   "cell_type": "code",
   "execution_count": null,
   "id": "518b8b8a",
   "metadata": {},
   "outputs": [],
   "source": []
  },
  {
   "cell_type": "code",
   "execution_count": 6,
   "id": "d26dac23",
   "metadata": {},
   "outputs": [
    {
     "data": {
      "text/plain": [
       "18"
      ]
     },
     "execution_count": 6,
     "metadata": {},
     "output_type": "execute_result"
    }
   ],
   "source": [
    "3*6"
   ]
  },
  {
   "cell_type": "code",
   "execution_count": 10,
   "id": "c1afea0f",
   "metadata": {},
   "outputs": [
    {
     "data": {
      "text/plain": [
       "-97252"
      ]
     },
     "execution_count": 10,
     "metadata": {},
     "output_type": "execute_result"
    }
   ],
   "source": [
    "645-97897"
   ]
  },
  {
   "cell_type": "code",
   "execution_count": null,
   "id": "8fdf7559",
   "metadata": {},
   "outputs": [],
   "source": []
  },
  {
   "cell_type": "code",
   "execution_count": 8,
   "id": "b848efd2",
   "metadata": {},
   "outputs": [
    {
     "data": {
      "text/plain": [
       "9731320"
      ]
     },
     "execution_count": 8,
     "metadata": {},
     "output_type": "execute_result"
    }
   ],
   "source": [
    "56464+9674856"
   ]
  },
  {
   "cell_type": "code",
   "execution_count": null,
   "id": "cdf22aca",
   "metadata": {},
   "outputs": [],
   "source": []
  }
 ],
 "metadata": {
  "kernelspec": {
   "display_name": "Python 3",
   "language": "python",
   "name": "python3"
  },
  "language_info": {
   "codemirror_mode": {
    "name": "ipython",
    "version": 3
   },
   "file_extension": ".py",
   "mimetype": "text/x-python",
   "name": "python",
   "nbconvert_exporter": "python",
   "pygments_lexer": "ipython3",
   "version": "3.8.8"
  }
 },
 "nbformat": 4,
 "nbformat_minor": 5
}
